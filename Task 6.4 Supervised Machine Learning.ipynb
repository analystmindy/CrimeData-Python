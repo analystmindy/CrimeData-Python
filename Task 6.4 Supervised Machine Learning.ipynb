{
 "cells": [
  {
   "cell_type": "markdown",
   "id": "0f11c120",
   "metadata": {},
   "source": [
    "# Import Libraries [Step 2]"
   ]
  },
  {
   "cell_type": "code",
   "execution_count": 1,
   "id": "e7e07e36",
   "metadata": {},
   "outputs": [],
   "source": [
    "import pandas as pd\n",
    "import numpy as np\n",
    "import seaborn as sns\n",
    "import matplotlib as mpl\n",
    "import matplotlib.pyplot as plt\n",
    "import os\n",
    "import sklearn\n",
    "from sklearn.model_selection import train_test_split \n",
    "from sklearn.linear_model import LinearRegression\n",
    "from sklearn.metrics import mean_squared_error, r2_score"
   ]
  },
  {
   "cell_type": "code",
   "execution_count": 2,
   "id": "9bb959ec",
   "metadata": {},
   "outputs": [
    {
     "data": {
      "text/plain": [
       "'3.7.2'"
      ]
     },
     "execution_count": 2,
     "metadata": {},
     "output_type": "execute_result"
    }
   ],
   "source": [
    "# Check version of matplot\n",
    "mpl.__version__"
   ]
  },
  {
   "cell_type": "code",
   "execution_count": 3,
   "id": "75fb532a",
   "metadata": {},
   "outputs": [],
   "source": [
    "# Enable visualizations through matplot\n",
    "%matplotlib inline"
   ]
  },
  {
   "cell_type": "markdown",
   "id": "799fc10a",
   "metadata": {},
   "source": [
    "# Import Dataset"
   ]
  },
  {
   "cell_type": "code",
   "execution_count": 4,
   "id": "7edcaefa",
   "metadata": {},
   "outputs": [],
   "source": [
    "# Creating a path\n",
    "path = r'C:\\Users\\mduong\\Documents\\Python Scripts'"
   ]
  },
  {
   "cell_type": "code",
   "execution_count": 5,
   "id": "2d5cff93",
   "metadata": {},
   "outputs": [],
   "source": [
    "# Import crime data CSV file\n",
    "df_crime = pd.read_csv(os.path.join(path, 'denver2_crimedata_2018-2023_cleaned.csv'), low_memory=False, index_col = False)"
   ]
  },
  {
   "cell_type": "markdown",
   "id": "26585cc6",
   "metadata": {},
   "source": [
    "# Clean Data [Step 3]"
   ]
  },
  {
   "cell_type": "code",
   "execution_count": 6,
   "id": "6a270f08",
   "metadata": {},
   "outputs": [
    {
     "data": {
      "text/plain": [
       "(377793, 27)"
      ]
     },
     "execution_count": 6,
     "metadata": {},
     "output_type": "execute_result"
    }
   ],
   "source": [
    "# Show how many rows and columns are in the crime data dataframe(df)\n",
    "df_crime.shape"
   ]
  },
  {
   "cell_type": "code",
   "execution_count": 7,
   "id": "6e4bac03",
   "metadata": {},
   "outputs": [
    {
     "name": "stdout",
     "output_type": "stream",
     "text": [
      "<class 'pandas.core.frame.DataFrame'>\n",
      "RangeIndex: 377793 entries, 0 to 377792\n",
      "Data columns (total 27 columns):\n",
      " #   Column                   Non-Null Count   Dtype  \n",
      "---  ------                   --------------   -----  \n",
      " 0   Unnamed: 0               377793 non-null  int64  \n",
      " 1   incident_id              377793 non-null  float64\n",
      " 2   offense_id               377793 non-null  float64\n",
      " 3   offense_code             377793 non-null  int64  \n",
      " 4   offense_code_extension   377793 non-null  int64  \n",
      " 5   crime                    377793 non-null  object \n",
      " 6   crime_category           377793 non-null  object \n",
      " 7   crime_startdate          377793 non-null  object \n",
      " 8   crime_yr                 377793 non-null  int64  \n",
      " 9   day_of_week_first        377793 non-null  object \n",
      " 10  crime_enddate            206825 non-null  object \n",
      " 11  day_btwn_first_last      206825 non-null  float64\n",
      " 12  reported_date            377793 non-null  object \n",
      " 13  day_btwn_first_reported  377793 non-null  float64\n",
      " 14  reported_yr              377793 non-null  int64  \n",
      " 15  incident_address         362616 non-null  object \n",
      " 16  geo_x                    362616 non-null  float64\n",
      " 17  geo_y                    362616 non-null  float64\n",
      " 18  geo_lon                  362341 non-null  float64\n",
      " 19  geo_lat                  362341 non-null  float64\n",
      " 20  district_id              377736 non-null  object \n",
      " 21  precinct_id              377793 non-null  int64  \n",
      " 22  neighborhood_id          377109 non-null  object \n",
      " 23  county                   377793 non-null  object \n",
      " 24  is_crime                 377793 non-null  int64  \n",
      " 25  is_traffic               377793 non-null  int64  \n",
      " 26  victim_count             377793 non-null  int64  \n",
      "dtypes: float64(8), int64(9), object(10)\n",
      "memory usage: 77.8+ MB\n"
     ]
    }
   ],
   "source": [
    "# Show detailed information about the crime data df\n",
    "df_crime.info()"
   ]
  },
  {
   "cell_type": "code",
   "execution_count": 8,
   "id": "dfa35513",
   "metadata": {},
   "outputs": [
    {
     "data": {
      "text/html": [
       "<div>\n",
       "<style scoped>\n",
       "    .dataframe tbody tr th:only-of-type {\n",
       "        vertical-align: middle;\n",
       "    }\n",
       "\n",
       "    .dataframe tbody tr th {\n",
       "        vertical-align: top;\n",
       "    }\n",
       "\n",
       "    .dataframe thead th {\n",
       "        text-align: right;\n",
       "    }\n",
       "</style>\n",
       "<table border=\"1\" class=\"dataframe\">\n",
       "  <thead>\n",
       "    <tr style=\"text-align: right;\">\n",
       "      <th></th>\n",
       "      <th>Unnamed: 0</th>\n",
       "      <th>incident_id</th>\n",
       "      <th>offense_id</th>\n",
       "      <th>offense_code</th>\n",
       "      <th>offense_code_extension</th>\n",
       "      <th>crime</th>\n",
       "      <th>crime_category</th>\n",
       "      <th>crime_startdate</th>\n",
       "      <th>crime_yr</th>\n",
       "      <th>day_of_week_first</th>\n",
       "      <th>...</th>\n",
       "      <th>geo_y</th>\n",
       "      <th>geo_lon</th>\n",
       "      <th>geo_lat</th>\n",
       "      <th>district_id</th>\n",
       "      <th>precinct_id</th>\n",
       "      <th>neighborhood_id</th>\n",
       "      <th>county</th>\n",
       "      <th>is_crime</th>\n",
       "      <th>is_traffic</th>\n",
       "      <th>victim_count</th>\n",
       "    </tr>\n",
       "  </thead>\n",
       "  <tbody>\n",
       "    <tr>\n",
       "      <th>0</th>\n",
       "      <td>0</td>\n",
       "      <td>2.023601e+10</td>\n",
       "      <td>2.020000e+16</td>\n",
       "      <td>2304</td>\n",
       "      <td>0</td>\n",
       "      <td>theft-parts-from-vehicle</td>\n",
       "      <td>theft-from-motor-vehicle</td>\n",
       "      <td>6/29/2018 17:00</td>\n",
       "      <td>2018</td>\n",
       "      <td>Fri</td>\n",
       "      <td>...</td>\n",
       "      <td>1736251.0</td>\n",
       "      <td>-104.674045</td>\n",
       "      <td>39.851926</td>\n",
       "      <td>7</td>\n",
       "      <td>759</td>\n",
       "      <td>DIA</td>\n",
       "      <td>Denver</td>\n",
       "      <td>1</td>\n",
       "      <td>0</td>\n",
       "      <td>1</td>\n",
       "    </tr>\n",
       "    <tr>\n",
       "      <th>1</th>\n",
       "      <td>1</td>\n",
       "      <td>2.023135e+09</td>\n",
       "      <td>2.020000e+15</td>\n",
       "      <td>1102</td>\n",
       "      <td>1</td>\n",
       "      <td>sex-aslt-rape-pot</td>\n",
       "      <td>sexual-assault</td>\n",
       "      <td>3/15/2018 12:45</td>\n",
       "      <td>2018</td>\n",
       "      <td>Thu</td>\n",
       "      <td>...</td>\n",
       "      <td>NaN</td>\n",
       "      <td>NaN</td>\n",
       "      <td>NaN</td>\n",
       "      <td>1</td>\n",
       "      <td>122</td>\n",
       "      <td>Villa Park</td>\n",
       "      <td>Denver</td>\n",
       "      <td>1</td>\n",
       "      <td>0</td>\n",
       "      <td>1</td>\n",
       "    </tr>\n",
       "    <tr>\n",
       "      <th>2</th>\n",
       "      <td>2</td>\n",
       "      <td>2.022602e+10</td>\n",
       "      <td>2.020000e+16</td>\n",
       "      <td>2304</td>\n",
       "      <td>0</td>\n",
       "      <td>theft-parts-from-vehicle</td>\n",
       "      <td>theft-from-motor-vehicle</td>\n",
       "      <td>6/1/2018 16:20</td>\n",
       "      <td>2018</td>\n",
       "      <td>Fri</td>\n",
       "      <td>...</td>\n",
       "      <td>1715591.0</td>\n",
       "      <td>-104.895448</td>\n",
       "      <td>39.796554</td>\n",
       "      <td>5</td>\n",
       "      <td>511</td>\n",
       "      <td>Central Park</td>\n",
       "      <td>Denver</td>\n",
       "      <td>1</td>\n",
       "      <td>0</td>\n",
       "      <td>1</td>\n",
       "    </tr>\n",
       "    <tr>\n",
       "      <th>3</th>\n",
       "      <td>3</td>\n",
       "      <td>2.023191e+09</td>\n",
       "      <td>2.020000e+15</td>\n",
       "      <td>1109</td>\n",
       "      <td>0</td>\n",
       "      <td>sex-aslt-non-rape</td>\n",
       "      <td>sexual-assault</td>\n",
       "      <td>1/1/2019 8:00</td>\n",
       "      <td>2019</td>\n",
       "      <td>Tue</td>\n",
       "      <td>...</td>\n",
       "      <td>NaN</td>\n",
       "      <td>NaN</td>\n",
       "      <td>NaN</td>\n",
       "      <td>2</td>\n",
       "      <td>221</td>\n",
       "      <td>Northeast Park Hill</td>\n",
       "      <td>Denver</td>\n",
       "      <td>1</td>\n",
       "      <td>0</td>\n",
       "      <td>1</td>\n",
       "    </tr>\n",
       "    <tr>\n",
       "      <th>4</th>\n",
       "      <td>4</td>\n",
       "      <td>2.023387e+09</td>\n",
       "      <td>2.020000e+15</td>\n",
       "      <td>2399</td>\n",
       "      <td>0</td>\n",
       "      <td>theft-other</td>\n",
       "      <td>larceny</td>\n",
       "      <td>6/1/2019 12:00</td>\n",
       "      <td>2019</td>\n",
       "      <td>Sat</td>\n",
       "      <td>...</td>\n",
       "      <td>1683676.0</td>\n",
       "      <td>-105.035631</td>\n",
       "      <td>39.709575</td>\n",
       "      <td>4</td>\n",
       "      <td>412</td>\n",
       "      <td>Westwood</td>\n",
       "      <td>Denver</td>\n",
       "      <td>1</td>\n",
       "      <td>0</td>\n",
       "      <td>1</td>\n",
       "    </tr>\n",
       "  </tbody>\n",
       "</table>\n",
       "<p>5 rows × 27 columns</p>\n",
       "</div>"
      ],
      "text/plain": [
       "   Unnamed: 0   incident_id    offense_id  offense_code  \\\n",
       "0           0  2.023601e+10  2.020000e+16          2304   \n",
       "1           1  2.023135e+09  2.020000e+15          1102   \n",
       "2           2  2.022602e+10  2.020000e+16          2304   \n",
       "3           3  2.023191e+09  2.020000e+15          1109   \n",
       "4           4  2.023387e+09  2.020000e+15          2399   \n",
       "\n",
       "   offense_code_extension                     crime            crime_category  \\\n",
       "0                       0  theft-parts-from-vehicle  theft-from-motor-vehicle   \n",
       "1                       1         sex-aslt-rape-pot            sexual-assault   \n",
       "2                       0  theft-parts-from-vehicle  theft-from-motor-vehicle   \n",
       "3                       0         sex-aslt-non-rape            sexual-assault   \n",
       "4                       0               theft-other                   larceny   \n",
       "\n",
       "   crime_startdate  crime_yr day_of_week_first  ...      geo_y     geo_lon  \\\n",
       "0  6/29/2018 17:00      2018               Fri  ...  1736251.0 -104.674045   \n",
       "1  3/15/2018 12:45      2018               Thu  ...        NaN         NaN   \n",
       "2   6/1/2018 16:20      2018               Fri  ...  1715591.0 -104.895448   \n",
       "3    1/1/2019 8:00      2019               Tue  ...        NaN         NaN   \n",
       "4   6/1/2019 12:00      2019               Sat  ...  1683676.0 -105.035631   \n",
       "\n",
       "     geo_lat  district_id  precinct_id      neighborhood_id  county  is_crime  \\\n",
       "0  39.851926            7          759                  DIA  Denver         1   \n",
       "1        NaN            1          122           Villa Park  Denver         1   \n",
       "2  39.796554            5          511         Central Park  Denver         1   \n",
       "3        NaN            2          221  Northeast Park Hill  Denver         1   \n",
       "4  39.709575            4          412             Westwood  Denver         1   \n",
       "\n",
       "   is_traffic  victim_count  \n",
       "0           0             1  \n",
       "1           0             1  \n",
       "2           0             1  \n",
       "3           0             1  \n",
       "4           0             1  \n",
       "\n",
       "[5 rows x 27 columns]"
      ]
     },
     "execution_count": 8,
     "metadata": {},
     "output_type": "execute_result"
    }
   ],
   "source": [
    "# Show the first five rows in the crime data df\n",
    "df_crime.head()"
   ]
  },
  {
   "cell_type": "code",
   "execution_count": 9,
   "id": "23ef1351",
   "metadata": {},
   "outputs": [],
   "source": [
    "# Remove unnecessary columns\n",
    "df_crime = df_crime.drop(columns = ['Unnamed: 0', 'offense_id', 'offense_code', 'offense_code_extension'])"
   ]
  },
  {
   "cell_type": "code",
   "execution_count": 10,
   "id": "34fd4387",
   "metadata": {},
   "outputs": [
    {
     "data": {
      "text/plain": [
       "Index(['incident_id', 'crime', 'crime_category', 'crime_startdate', 'crime_yr',\n",
       "       'day_of_week_first', 'crime_enddate', 'day_btwn_first_last',\n",
       "       'reported_date', 'day_btwn_first_reported', 'reported_yr',\n",
       "       'incident_address', 'geo_x', 'geo_y', 'geo_lon', 'geo_lat',\n",
       "       'district_id', 'precinct_id', 'neighborhood_id', 'county', 'is_crime',\n",
       "       'is_traffic', 'victim_count'],\n",
       "      dtype='object')"
      ]
     },
     "execution_count": 10,
     "metadata": {},
     "output_type": "execute_result"
    }
   ],
   "source": [
    "# Check columns\n",
    "df_crime.columns"
   ]
  },
  {
   "cell_type": "code",
   "execution_count": 11,
   "id": "2bef3329",
   "metadata": {},
   "outputs": [
    {
     "name": "stdout",
     "output_type": "stream",
     "text": [
      "incident_id  consistent\n",
      "crime  consistent\n",
      "crime_category  consistent\n",
      "crime_startdate  consistent\n",
      "crime_yr  consistent\n",
      "day_of_week_first  consistent\n",
      "crime_enddate  mixed\n",
      "day_btwn_first_last  consistent\n",
      "reported_date  consistent\n",
      "day_btwn_first_reported  consistent\n",
      "reported_yr  consistent\n",
      "incident_address  mixed\n",
      "geo_x  consistent\n",
      "geo_y  consistent\n",
      "geo_lon  consistent\n",
      "geo_lat  consistent\n",
      "district_id  mixed\n",
      "precinct_id  consistent\n",
      "neighborhood_id  mixed\n",
      "county  consistent\n",
      "is_crime  consistent\n",
      "is_traffic  consistent\n",
      "victim_count  consistent\n"
     ]
    }
   ],
   "source": [
    "# Check for mixed-type data in df_crime\n",
    "for col in df_crime.columns.tolist():\n",
    "  weird = (df_crime[[col]].applymap(type) != df_crime[[col]].iloc[0].apply(type)).any(axis = 1)\n",
    "  if len (df_crime[weird]) > 0:\n",
    "    print (col, ' mixed')\n",
    "  else: print(col, ' consistent')"
   ]
  },
  {
   "cell_type": "code",
   "execution_count": 12,
   "id": "92748240",
   "metadata": {},
   "outputs": [
    {
     "data": {
      "text/plain": [
       "incident_id                     0\n",
       "crime                           0\n",
       "crime_category                  0\n",
       "crime_startdate                 0\n",
       "crime_yr                        0\n",
       "day_of_week_first               0\n",
       "crime_enddate              170968\n",
       "day_btwn_first_last        170968\n",
       "reported_date                   0\n",
       "day_btwn_first_reported         0\n",
       "reported_yr                     0\n",
       "incident_address            15177\n",
       "geo_x                       15177\n",
       "geo_y                       15177\n",
       "geo_lon                     15452\n",
       "geo_lat                     15452\n",
       "district_id                    57\n",
       "precinct_id                     0\n",
       "neighborhood_id               684\n",
       "county                          0\n",
       "is_crime                        0\n",
       "is_traffic                      0\n",
       "victim_count                    0\n",
       "dtype: int64"
      ]
     },
     "execution_count": 12,
     "metadata": {},
     "output_type": "execute_result"
    }
   ],
   "source": [
    "# Check for missing values \n",
    "df_crime.isnull().sum()"
   ]
  },
  {
   "cell_type": "code",
   "execution_count": 13,
   "id": "ad911f55",
   "metadata": {},
   "outputs": [],
   "source": [
    "df_nonull = df_crime.dropna()"
   ]
  },
  {
   "cell_type": "code",
   "execution_count": 14,
   "id": "2d9e32cf",
   "metadata": {},
   "outputs": [
    {
     "data": {
      "text/plain": [
       "incident_id                0\n",
       "crime                      0\n",
       "crime_category             0\n",
       "crime_startdate            0\n",
       "crime_yr                   0\n",
       "day_of_week_first          0\n",
       "crime_enddate              0\n",
       "day_btwn_first_last        0\n",
       "reported_date              0\n",
       "day_btwn_first_reported    0\n",
       "reported_yr                0\n",
       "incident_address           0\n",
       "geo_x                      0\n",
       "geo_y                      0\n",
       "geo_lon                    0\n",
       "geo_lat                    0\n",
       "district_id                0\n",
       "precinct_id                0\n",
       "neighborhood_id            0\n",
       "county                     0\n",
       "is_crime                   0\n",
       "is_traffic                 0\n",
       "victim_count               0\n",
       "dtype: int64"
      ]
     },
     "execution_count": 14,
     "metadata": {},
     "output_type": "execute_result"
    }
   ],
   "source": [
    "# Check for missing values\n",
    "df_nonull.isnull().sum()"
   ]
  },
  {
   "cell_type": "code",
   "execution_count": 15,
   "id": "56f07c17",
   "metadata": {},
   "outputs": [
    {
     "data": {
      "text/plain": [
       "6.497433109044132"
      ]
     },
     "execution_count": 15,
     "metadata": {},
     "output_type": "execute_result"
    }
   ],
   "source": [
    "# Check mean for days between first date of incident and reported date\n",
    "df_nonull['day_btwn_first_reported'].mean()"
   ]
  },
  {
   "cell_type": "code",
   "execution_count": 16,
   "id": "615e2f7d",
   "metadata": {},
   "outputs": [
    {
     "data": {
      "text/plain": [
       "0.69"
      ]
     },
     "execution_count": 16,
     "metadata": {},
     "output_type": "execute_result"
    }
   ],
   "source": [
    "# Check median for days between first date of incident and reported date\n",
    "df_nonull['day_btwn_first_reported'].median()"
   ]
  },
  {
   "cell_type": "code",
   "execution_count": 17,
   "id": "84fafd70",
   "metadata": {},
   "outputs": [
    {
     "data": {
      "text/plain": [
       "1843.85"
      ]
     },
     "execution_count": 17,
     "metadata": {},
     "output_type": "execute_result"
    }
   ],
   "source": [
    "# Check max for days between first date of incident and reported date\n",
    "df_nonull['day_btwn_first_reported'].max()"
   ]
  },
  {
   "cell_type": "markdown",
   "id": "8d5863b0",
   "metadata": {},
   "source": [
    "# Explore Data Using Scatterplots [Step 4]"
   ]
  },
  {
   "cell_type": "code",
   "execution_count": 18,
   "id": "fb678393",
   "metadata": {},
   "outputs": [
    {
     "data": {
      "image/png": "[encoded data removed]",
      "text/plain": [
       "<Figure size 640x480 with 1 Axes>"
      ]
     },
     "metadata": {},
     "output_type": "display_data"
    }
   ],
   "source": [
    "# Create a scatterplot using matplotlib for another look at how the chosen variables plot against each other.\n",
    "\n",
    "df_nonull.plot(x = 'day_btwn_first_last', y='day_btwn_first_reported',style='o') \n",
    "# The style option creates a scatterplot; without it, we only have lines.\n",
    "plt.title('Days Between')  \n",
    "plt.xlabel('Days Between First Incident & Last Incident')  \n",
    "plt.ylabel('Days Between First Incident & Reported Date')  \n",
    "plt.show()"
   ]
  },
  {
   "cell_type": "markdown",
   "id": "efb110b3",
   "metadata": {},
   "source": [
    "# State Hypothesis [Step 5]\n",
    "\n",
    "As days between the first and last date of incident increases, so will the days between first incident and the report date ... which makes sense as people would likely report a crime once they find out it has happened, unless it's a stigmatized crime such as a sex offense. "
   ]
  },
  {
   "cell_type": "markdown",
   "id": "5240bf36",
   "metadata": {},
   "source": [
    "# Reshape Variables into NumPy Arrays [Step 6]"
   ]
  },
  {
   "cell_type": "code",
   "execution_count": 19,
   "id": "5a902460",
   "metadata": {},
   "outputs": [],
   "source": [
    "# Reshape the variables into NumPy arrays and put them into separate objects.\n",
    "\n",
    "x = df_nonull['day_btwn_first_last'].values.reshape(-1,1)\n",
    "y = df_nonull['day_btwn_first_reported'].values.reshape(-1,1)"
   ]
  },
  {
   "cell_type": "code",
   "execution_count": 20,
   "id": "135cce96",
   "metadata": {},
   "outputs": [
    {
     "name": "stdout",
     "output_type": "stream",
     "text": [
      "[[1838.83]\n",
      " [1543.  ]\n",
      " [1508.96]\n",
      " ...\n",
      " [   0.  ]\n",
      " [   0.  ]\n",
      " [   0.  ]]\n"
     ]
    }
   ],
   "source": [
    "print(x)"
   ]
  },
  {
   "cell_type": "code",
   "execution_count": 21,
   "id": "ca3d6c78",
   "metadata": {},
   "outputs": [
    {
     "name": "stdout",
     "output_type": "stream",
     "text": [
      "[[1843.85]\n",
      " [1543.01]\n",
      " [1509.03]\n",
      " ...\n",
      " [   3.01]\n",
      " [  35.01]\n",
      " [   2.35]]\n"
     ]
    }
   ],
   "source": [
    "print(y)"
   ]
  },
  {
   "cell_type": "markdown",
   "id": "16d6cba8",
   "metadata": {},
   "source": [
    "# Split Data into Training & Test Sets [Step 7]"
   ]
  },
  {
   "cell_type": "code",
   "execution_count": 22,
   "id": "515b6936",
   "metadata": {},
   "outputs": [],
   "source": [
    "# Split data into a training set and a test set.\n",
    "\n",
    "x_train, x_test, y_train, y_test = train_test_split(x, y, test_size=0.3, random_state=0)"
   ]
  },
  {
   "cell_type": "markdown",
   "id": "b97fa7ce",
   "metadata": {},
   "source": [
    "# Linear Regression [Step 8]"
   ]
  },
  {
   "cell_type": "code",
   "execution_count": 23,
   "id": "6a366668",
   "metadata": {},
   "outputs": [],
   "source": [
    "# Create a regression object.\n",
    "\n",
    "regression = LinearRegression()  # This is the regression object, which will be fit onto the training set."
   ]
  },
  {
   "cell_type": "code",
   "execution_count": 24,
   "id": "ebca87c2",
   "metadata": {},
   "outputs": [
    {
     "data": {
      "text/html": [
       "<style>#sk-container-id-1 {color: black;}#sk-container-id-1 pre{padding: 0;}#sk-container-id-1 div.sk-toggleable {background-color: white;}#sk-container-id-1 label.sk-toggleable__label {cursor: pointer;display: block;width: 100%;margin-bottom: 0;padding: 0.3em;box-sizing: border-box;text-align: center;}#sk-container-id-1 label.sk-toggleable__label-arrow:before {content: \"▸\";float: left;margin-right: 0.25em;color: #696969;}#sk-container-id-1 label.sk-toggleable__label-arrow:hover:before {color: black;}#sk-container-id-1 div.sk-estimator:hover label.sk-toggleable__label-arrow:before {color: black;}#sk-container-id-1 div.sk-toggleable__content {max-height: 0;max-width: 0;overflow: hidden;text-align: left;background-color: #f0f8ff;}#sk-container-id-1 div.sk-toggleable__content pre {margin: 0.2em;color: black;border-radius: 0.25em;background-color: #f0f8ff;}#sk-container-id-1 input.sk-toggleable__control:checked~div.sk-toggleable__content {max-height: 200px;max-width: 100%;overflow: auto;}#sk-container-id-1 input.sk-toggleable__control:checked~label.sk-toggleable__label-arrow:before {content: \"▾\";}#sk-container-id-1 div.sk-estimator input.sk-toggleable__control:checked~label.sk-toggleable__label {background-color: #d4ebff;}#sk-container-id-1 div.sk-label input.sk-toggleable__control:checked~label.sk-toggleable__label {background-color: #d4ebff;}#sk-container-id-1 input.sk-hidden--visually {border: 0;clip: rect(1px 1px 1px 1px);clip: rect(1px, 1px, 1px, 1px);height: 1px;margin: -1px;overflow: hidden;padding: 0;position: absolute;width: 1px;}#sk-container-id-1 div.sk-estimator {font-family: monospace;background-color: #f0f8ff;border: 1px dotted black;border-radius: 0.25em;box-sizing: border-box;margin-bottom: 0.5em;}#sk-container-id-1 div.sk-estimator:hover {background-color: #d4ebff;}#sk-container-id-1 div.sk-parallel-item::after {content: \"\";width: 100%;border-bottom: 1px solid gray;flex-grow: 1;}#sk-container-id-1 div.sk-label:hover label.sk-toggleable__label {background-color: #d4ebff;}#sk-container-id-1 div.sk-serial::before {content: \"\";position: absolute;border-left: 1px solid gray;box-sizing: border-box;top: 0;bottom: 0;left: 50%;z-index: 0;}#sk-container-id-1 div.sk-serial {display: flex;flex-direction: column;align-items: center;background-color: white;padding-right: 0.2em;padding-left: 0.2em;position: relative;}#sk-container-id-1 div.sk-item {position: relative;z-index: 1;}#sk-container-id-1 div.sk-parallel {display: flex;align-items: stretch;justify-content: center;background-color: white;position: relative;}#sk-container-id-1 div.sk-item::before, #sk-container-id-1 div.sk-parallel-item::before {content: \"\";position: absolute;border-left: 1px solid gray;box-sizing: border-box;top: 0;bottom: 0;left: 50%;z-index: -1;}#sk-container-id-1 div.sk-parallel-item {display: flex;flex-direction: column;z-index: 1;position: relative;background-color: white;}#sk-container-id-1 div.sk-parallel-item:first-child::after {align-self: flex-end;width: 50%;}#sk-container-id-1 div.sk-parallel-item:last-child::after {align-self: flex-start;width: 50%;}#sk-container-id-1 div.sk-parallel-item:only-child::after {width: 0;}#sk-container-id-1 div.sk-dashed-wrapped {border: 1px dashed gray;margin: 0 0.4em 0.5em 0.4em;box-sizing: border-box;padding-bottom: 0.4em;background-color: white;}#sk-container-id-1 div.sk-label label {font-family: monospace;font-weight: bold;display: inline-block;line-height: 1.2em;}#sk-container-id-1 div.sk-label-container {text-align: center;}#sk-container-id-1 div.sk-container {/* jupyter's `normalize.less` sets `[hidden] { display: none; }` but bootstrap.min.css set `[hidden] { display: none !important; }` so we also need the `!important` here to be able to override the default hidden behavior on the sphinx rendered scikit-learn.org. See: https://github.com/scikit-learn/scikit-learn/issues/21755 */display: inline-block !important;position: relative;}#sk-container-id-1 div.sk-text-repr-fallback {display: none;}</style><div id=\"sk-container-id-1\" class=\"sk-top-container\"><div class=\"sk-text-repr-fallback\"><pre>LinearRegression()</pre><b>In a Jupyter environment, please rerun this cell to show the HTML representation or trust the notebook. <br />On GitHub, the HTML representation is unable to render, please try loading this page with nbviewer.org.</b></div><div class=\"sk-container\" hidden><div class=\"sk-item\"><div class=\"sk-estimator sk-toggleable\"><input class=\"sk-toggleable__control sk-hidden--visually\" id=\"sk-estimator-id-1\" type=\"checkbox\" checked><label for=\"sk-estimator-id-1\" class=\"sk-toggleable__label sk-toggleable__label-arrow\">LinearRegression</label><div class=\"sk-toggleable__content\"><pre>LinearRegression()</pre></div></div></div></div></div>"
      ],
      "text/plain": [
       "LinearRegression()"
      ]
     },
     "execution_count": 24,
     "metadata": {},
     "output_type": "execute_result"
    }
   ],
   "source": [
    "# Fit model created to the training set\n",
    "regression.fit(x_train, y_train)"
   ]
  },
  {
   "cell_type": "code",
   "execution_count": 25,
   "id": "a5a512c3",
   "metadata": {},
   "outputs": [],
   "source": [
    "# Create a prediction for y on the test set\n",
    "y_predicted = regression.predict(x_test)"
   ]
  },
  {
   "cell_type": "markdown",
   "id": "3aa6db07",
   "metadata": {},
   "source": [
    "# Create Plot for Regression Line on Test Set [Step 9]"
   ]
  },
  {
   "cell_type": "code",
   "execution_count": 26,
   "id": "a49f81cd",
   "metadata": {},
   "outputs": [
    {
     "data": {
      "image/png": "[encoded data removed]",
      "text/plain": [
       "<Figure size 640x480 with 1 Axes>"
      ]
     },
     "metadata": {},
     "output_type": "display_data"
    }
   ],
   "source": [
    "# Create a plot that shows the regression line from the model on the test set.\n",
    "\n",
    "plot_test = plt\n",
    "plot_test.scatter(x_test, y_test, color='gray', s = 15)\n",
    "plot_test.plot(x_test, y_predicted, color='red', linewidth =3)\n",
    "plot_test.title('Days Between')\n",
    "plot_test.xlabel('Days Between First & Last Incident Date')\n",
    "plot_test.ylabel('Days Between First & Reported Date')\n",
    "plot_test.show()"
   ]
  },
  {
   "cell_type": "markdown",
   "id": "23eefc2a",
   "metadata": {},
   "source": [
    "# Write Own Interpretation [Step 10]\n",
    "\n",
    "As established, I don't have the best dataset for this, but I can understand what it's supposed to do based on what is shown, the sample in the lesson, and other students' examples. It makes sense that when people find out about the incident that they'd report it ASAP unless they just didn't know that it happened, or if maybe there's societal stigma about reporting, especially with sex offenses. There are extremes in this dataset, but unfortunately I can't vet the accuracy of these; I have to just trust that the data Denver Police Department gave out publicly is accurate and reliable. "
   ]
  },
  {
   "cell_type": "markdown",
   "id": "7067c1ed",
   "metadata": {},
   "source": [
    "# Check Model Performance Statistics - MSE and R2 score [Step 11]"
   ]
  },
  {
   "cell_type": "code",
   "execution_count": 27,
   "id": "3770d5ce",
   "metadata": {},
   "outputs": [],
   "source": [
    "# Create objects that contain the model summary statistics.\n",
    "\n",
    "rmse = mean_squared_error(y_test, y_predicted) # This is the mean squared error\n",
    "r2 = r2_score(y_test, y_predicted) # This is the R2 score. "
   ]
  },
  {
   "cell_type": "code",
   "execution_count": 28,
   "id": "5a86e92e",
   "metadata": {},
   "outputs": [
    {
     "name": "stdout",
     "output_type": "stream",
     "text": [
      "Slope: [[1.04062723]]\n",
      "Mean squared error:  450.648614287847\n",
      "R2 score:  0.6800165039045396\n"
     ]
    }
   ],
   "source": [
    "# Print the model summary statistics. This is where you evaluate the performance of the model.\n",
    "\n",
    "print('Slope:' ,regression.coef_)\n",
    "print('Mean squared error: ', rmse)\n",
    "print('R2 score: ', r2)"
   ]
  },
  {
   "cell_type": "markdown",
   "id": "21c932b0",
   "metadata": {},
   "source": [
    "The slope being a positive number means there is a positive relationship between the two varibles; when one increases, so does the other. \n",
    "\n",
    "The mean squared error (MSE) is quite high at 450, meaning the set of data points are not close to one another, thus the accuracy of the dataset is questionable. According to our lesson, \"The larger the distance, the farther away the regression line is from the data points, indicating that the regression line isn’t an accurate representation of the data.\" That's unfortunate for our analysis here, but it may be reflective of other issues, and we can't begin to suggest a solution without diagnosing the problem first. For example, is the large range due to data entry issues, or perhaps these crimes really did have long delays in detection and reporting? We already know that these two variables aren't good for the regression analysis, but it does give us some insight into the quality of the dataset itself. \n",
    "\n",
    "The 0.68 for the R2 score, or 68% is not bad, but not that great either. The model isn't performing that terribly, but it isn't performing great either. "
   ]
  },
  {
   "cell_type": "markdown",
   "id": "37280612",
   "metadata": {},
   "source": [
    "# Compare Predicted y values with Actual y values [Step 12]"
   ]
  },
  {
   "cell_type": "code",
   "execution_count": 29,
   "id": "a93aa526",
   "metadata": {},
   "outputs": [
    {
     "data": {
      "text/plain": [
       "array([[2.83636032],\n",
       "       [2.58660979],\n",
       "       [2.79473524],\n",
       "       ...,\n",
       "       [2.57620352],\n",
       "       [2.7322976 ],\n",
       "       [2.6594537 ]])"
      ]
     },
     "execution_count": 29,
     "metadata": {},
     "output_type": "execute_result"
    }
   ],
   "source": [
    "y_predicted"
   ]
  },
  {
   "cell_type": "code",
   "execution_count": 30,
   "id": "11c4e638",
   "metadata": {},
   "outputs": [
    {
     "data": {
      "text/html": [
       "<div>\n",
       "<style scoped>\n",
       "    .dataframe tbody tr th:only-of-type {\n",
       "        vertical-align: middle;\n",
       "    }\n",
       "\n",
       "    .dataframe tbody tr th {\n",
       "        vertical-align: top;\n",
       "    }\n",
       "\n",
       "    .dataframe thead th {\n",
       "        text-align: right;\n",
       "    }\n",
       "</style>\n",
       "<table border=\"1\" class=\"dataframe\">\n",
       "  <thead>\n",
       "    <tr style=\"text-align: right;\">\n",
       "      <th></th>\n",
       "      <th>Actual</th>\n",
       "      <th>Predicted</th>\n",
       "    </tr>\n",
       "  </thead>\n",
       "  <tbody>\n",
       "    <tr>\n",
       "      <th>0</th>\n",
       "      <td>3.71</td>\n",
       "      <td>2.836360</td>\n",
       "    </tr>\n",
       "    <tr>\n",
       "      <th>1</th>\n",
       "      <td>0.05</td>\n",
       "      <td>2.586610</td>\n",
       "    </tr>\n",
       "    <tr>\n",
       "      <th>2</th>\n",
       "      <td>3.01</td>\n",
       "      <td>2.794735</td>\n",
       "    </tr>\n",
       "    <tr>\n",
       "      <th>3</th>\n",
       "      <td>0.04</td>\n",
       "      <td>2.586610</td>\n",
       "    </tr>\n",
       "    <tr>\n",
       "      <th>4</th>\n",
       "      <td>2.67</td>\n",
       "      <td>2.617829</td>\n",
       "    </tr>\n",
       "    <tr>\n",
       "      <th>5</th>\n",
       "      <td>4.03</td>\n",
       "      <td>6.738712</td>\n",
       "    </tr>\n",
       "    <tr>\n",
       "      <th>6</th>\n",
       "      <td>0.70</td>\n",
       "      <td>3.117330</td>\n",
       "    </tr>\n",
       "    <tr>\n",
       "      <th>7</th>\n",
       "      <td>2.14</td>\n",
       "      <td>2.794735</td>\n",
       "    </tr>\n",
       "    <tr>\n",
       "      <th>8</th>\n",
       "      <td>16.96</td>\n",
       "      <td>2.753110</td>\n",
       "    </tr>\n",
       "    <tr>\n",
       "      <th>9</th>\n",
       "      <td>0.52</td>\n",
       "      <td>2.992454</td>\n",
       "    </tr>\n",
       "    <tr>\n",
       "      <th>10</th>\n",
       "      <td>0.75</td>\n",
       "      <td>2.940423</td>\n",
       "    </tr>\n",
       "    <tr>\n",
       "      <th>11</th>\n",
       "      <td>0.02</td>\n",
       "      <td>2.576204</td>\n",
       "    </tr>\n",
       "    <tr>\n",
       "      <th>12</th>\n",
       "      <td>0.60</td>\n",
       "      <td>3.117330</td>\n",
       "    </tr>\n",
       "    <tr>\n",
       "      <th>13</th>\n",
       "      <td>0.16</td>\n",
       "      <td>2.742704</td>\n",
       "    </tr>\n",
       "    <tr>\n",
       "      <th>14</th>\n",
       "      <td>2.47</td>\n",
       "      <td>3.616831</td>\n",
       "    </tr>\n",
       "    <tr>\n",
       "      <th>15</th>\n",
       "      <td>0.01</td>\n",
       "      <td>2.576204</td>\n",
       "    </tr>\n",
       "    <tr>\n",
       "      <th>16</th>\n",
       "      <td>0.03</td>\n",
       "      <td>2.597016</td>\n",
       "    </tr>\n",
       "    <tr>\n",
       "      <th>17</th>\n",
       "      <td>28.10</td>\n",
       "      <td>2.597016</td>\n",
       "    </tr>\n",
       "    <tr>\n",
       "      <th>18</th>\n",
       "      <td>0.00</td>\n",
       "      <td>2.576204</td>\n",
       "    </tr>\n",
       "    <tr>\n",
       "      <th>19</th>\n",
       "      <td>0.03</td>\n",
       "      <td>2.576204</td>\n",
       "    </tr>\n",
       "    <tr>\n",
       "      <th>20</th>\n",
       "      <td>3.44</td>\n",
       "      <td>6.093524</td>\n",
       "    </tr>\n",
       "    <tr>\n",
       "      <th>21</th>\n",
       "      <td>0.40</td>\n",
       "      <td>2.971642</td>\n",
       "    </tr>\n",
       "    <tr>\n",
       "      <th>22</th>\n",
       "      <td>0.85</td>\n",
       "      <td>3.315049</td>\n",
       "    </tr>\n",
       "    <tr>\n",
       "      <th>23</th>\n",
       "      <td>1.84</td>\n",
       "      <td>4.033082</td>\n",
       "    </tr>\n",
       "    <tr>\n",
       "      <th>24</th>\n",
       "      <td>3.01</td>\n",
       "      <td>5.698085</td>\n",
       "    </tr>\n",
       "    <tr>\n",
       "      <th>25</th>\n",
       "      <td>0.67</td>\n",
       "      <td>3.252611</td>\n",
       "    </tr>\n",
       "    <tr>\n",
       "      <th>26</th>\n",
       "      <td>0.45</td>\n",
       "      <td>2.940423</td>\n",
       "    </tr>\n",
       "    <tr>\n",
       "      <th>27</th>\n",
       "      <td>0.86</td>\n",
       "      <td>3.273424</td>\n",
       "    </tr>\n",
       "    <tr>\n",
       "      <th>28</th>\n",
       "      <td>0.00</td>\n",
       "      <td>2.576204</td>\n",
       "    </tr>\n",
       "    <tr>\n",
       "      <th>29</th>\n",
       "      <td>0.48</td>\n",
       "      <td>3.044486</td>\n",
       "    </tr>\n",
       "  </tbody>\n",
       "</table>\n",
       "</div>"
      ],
      "text/plain": [
       "    Actual  Predicted\n",
       "0     3.71   2.836360\n",
       "1     0.05   2.586610\n",
       "2     3.01   2.794735\n",
       "3     0.04   2.586610\n",
       "4     2.67   2.617829\n",
       "5     4.03   6.738712\n",
       "6     0.70   3.117330\n",
       "7     2.14   2.794735\n",
       "8    16.96   2.753110\n",
       "9     0.52   2.992454\n",
       "10    0.75   2.940423\n",
       "11    0.02   2.576204\n",
       "12    0.60   3.117330\n",
       "13    0.16   2.742704\n",
       "14    2.47   3.616831\n",
       "15    0.01   2.576204\n",
       "16    0.03   2.597016\n",
       "17   28.10   2.597016\n",
       "18    0.00   2.576204\n",
       "19    0.03   2.576204\n",
       "20    3.44   6.093524\n",
       "21    0.40   2.971642\n",
       "22    0.85   3.315049\n",
       "23    1.84   4.033082\n",
       "24    3.01   5.698085\n",
       "25    0.67   3.252611\n",
       "26    0.45   2.940423\n",
       "27    0.86   3.273424\n",
       "28    0.00   2.576204\n",
       "29    0.48   3.044486"
      ]
     },
     "execution_count": 30,
     "metadata": {},
     "output_type": "execute_result"
    }
   ],
   "source": [
    "# Create a dataframe comparing the actual and predicted values of y.\n",
    "\n",
    "data = pd.DataFrame({'Actual': y_test.flatten(), 'Predicted': y_predicted.flatten()})\n",
    "data.head(30)"
   ]
  },
  {
   "cell_type": "code",
   "execution_count": 31,
   "id": "8234a44e",
   "metadata": {},
   "outputs": [],
   "source": [
    "# Predict.\n",
    "\n",
    "y_predicted_train = regression.predict(x_train) # This is predicting X_train!"
   ]
  },
  {
   "cell_type": "code",
   "execution_count": 32,
   "id": "1bf495f2",
   "metadata": {},
   "outputs": [],
   "source": [
    "rmse = mean_squared_error(y_train, y_predicted_train)\n",
    "r2 = r2_score(y_train, y_predicted_train)"
   ]
  },
  {
   "cell_type": "code",
   "execution_count": 33,
   "id": "4a00f56a",
   "metadata": {},
   "outputs": [
    {
     "name": "stdout",
     "output_type": "stream",
     "text": [
      "Slope: [[1.04062723]]\n",
      "Mean squared error:  422.20065605584523\n",
      "R2 score:  0.6972100074354857\n"
     ]
    }
   ],
   "source": [
    "print('Slope:' ,regression.coef_)\n",
    "print('Mean squared error: ', rmse)\n",
    "print('R2 score: ', r2)"
   ]
  },
  {
   "cell_type": "code",
   "execution_count": 34,
   "id": "fe41cd5c",
   "metadata": {},
   "outputs": [
    {
     "data": {
      "image/png": "[encoded data removed]",
      "text/plain": [
       "<Figure size 640x480 with 1 Axes>"
      ]
     },
     "metadata": {},
     "output_type": "display_data"
    }
   ],
   "source": [
    "# Visualizing the training set results.\n",
    "\n",
    "plot_test = plt\n",
    "plot_test.scatter(x_train, y_train, color='green', s = 15)\n",
    "plot_test.plot(x_train, y_predicted_train, color='red', linewidth =3)\n",
    "plot_test.title('Days Between')\n",
    "plot_test.xlabel('Days Between First & Last Incident Date')\n",
    "plot_test.ylabel('Days Between First & Reported Date')\n",
    "plot_test.show()"
   ]
  },
  {
   "cell_type": "markdown",
   "id": "2a4c4abe",
   "metadata": {},
   "source": [
    "The model performed similarly to the last one, with a positive relationship, large MSE, and ~1% difference with the R2. "
   ]
  },
  {
   "cell_type": "markdown",
   "id": "47fbb62f",
   "metadata": {},
   "source": [
    "# Final Thoughts [Step 13]\n",
    "\n",
    "I think the model performed well, especially since it had so many date points to work with. As mentioned, this isn't a great dataset, so the visualizations aren't too insightful, but at least they work. In terms of bias, I mean, there are extreme values that skew the figures a lot, but they are what Denver Police Department put out for public use, so there's not much I can do to change that fact. I do think these extremes can provide incentives for the department to review their data entry practices and maybe do some outreach to the community on the benefits of swift reporting. It's near impossible to investigate a case that happened over a certain amount of time as so many things could've changed. "
   ]
  }
 ],
 "metadata": {
  "kernelspec": {
   "display_name": "Python 3 (ipykernel)",
   "language": "python",
   "name": "python3"
  },
  "language_info": {
   "codemirror_mode": {
    "name": "ipython",
    "version": 3
   },
   "file_extension": ".py",
   "mimetype": "text/x-python",
   "name": "python",
   "nbconvert_exporter": "python",
   "pygments_lexer": "ipython3",
   "version": "3.11.5"
  }
 },
 "nbformat": 4,
 "nbformat_minor": 5
}
